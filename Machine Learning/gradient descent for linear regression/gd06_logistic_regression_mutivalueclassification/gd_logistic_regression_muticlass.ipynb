{
 "cells": [
  {
   "cell_type": "code",
   "execution_count": 11,
   "metadata": {},
   "outputs": [
    {
     "name": "stdout",
     "output_type": "stream",
     "text": [
      "Coefficients:  [[  0.          -0.95984554  30.622181   -13.74639782 -11.55493103\n",
      "   -2.82530526  14.91301539 -10.87510671  -9.02881184  26.08560641\n",
      "  -10.98224484  -9.87723383  -9.47835971  -6.36001704  -2.7378965\n",
      "   -4.96954115   2.10529349  -9.98785281  -8.04870229  15.42795554\n",
      "  -11.06653682  -9.40798065  -9.03548511  -6.07258145  -2.61608313\n",
      "   21.87985334 -10.32215282  -9.90697423 -11.01129899  -7.68455922\n",
      "   -3.8518048   -7.01772787  -3.91450476  -0.65522148   2.24008442]\n",
      " [  0.          43.67297227 -28.91451684  39.34248455  45.90179908\n",
      "   23.78826081   7.94428643  17.68757289  27.93197078 -32.5068087\n",
      "   39.15480868  48.3022136  -14.52321294  -7.7202914   -7.74975546\n",
      "    3.2072781    4.55737207  -5.95723996   6.64004315 -15.12832213\n",
      "   14.29819683  27.33214852 -34.31516012 -24.74944063 -20.67775292\n",
      "  -34.94258057  31.41818785  45.06911088 -12.12336934  -3.82730024\n",
      "   -2.74907793 -64.87306614 -54.22916321 -46.554501   -41.00639047]\n",
      " [  0.         -35.36273059  -3.76264984  -5.02627861  -3.39850913\n",
      "  -21.91603755 -16.43769649  -2.67339739  -2.64155518   5.65876609\n",
      "   -4.17383733  -5.27915559  14.07588606  13.92668184  15.81489465\n",
      "   -7.26891709  -5.21523435   6.34473701   4.3302241    5.61624245\n",
      "    4.31224646   0.94931904  20.8887536   19.04276892  18.92099863\n",
      "   14.56856485   4.14511617  -1.55729956  18.13471143  15.45918255\n",
      "   15.17916819  34.95903004  32.68165396  31.18511581  30.14917643]]\n",
      "Intercept:  [ -38.87524403 -121.07377754  -85.70741243]\n",
      "iterations ran : 5\n",
      "R2:  0.9\n",
      "                 precision    recall  f1-score   support\n",
      "\n",
      "    Iris-setosa       1.00      1.00      1.00         9\n",
      "Iris-versicolor       0.82      0.90      0.86        10\n",
      " Iris-virginica       0.90      0.82      0.86        11\n",
      "\n",
      "      micro avg       0.90      0.90      0.90        30\n",
      "      macro avg       0.91      0.91      0.90        30\n",
      "   weighted avg       0.90      0.90      0.90        30\n",
      "\n",
      "[[9 0 0]\n",
      " [0 9 1]\n",
      " [0 2 9]]\n"
     ]
    },
    {
     "name": "stderr",
     "output_type": "stream",
     "text": [
      "C:\\ProgramData\\Anaconda3\\lib\\site-packages\\sklearn\\linear_model\\stochastic_gradient.py:166: FutureWarning: max_iter and tol parameters have been added in SGDClassifier in 0.19. If both are left unset, they default to max_iter=5 and tol=None. If tol is not None, max_iter defaults to max_iter=1000. From 0.21, default max_iter will be 1000, and default tol will be 1e-3.\n",
      "  FutureWarning)\n"
     ]
    }
   ],
   "source": [
    "#Multivalue classification\n",
    "import pandas\n",
    "irisData = pandas.read_csv('iris.csv')\n",
    "\n",
    "dataX = pandas.DataFrame({'slength': irisData.slength, 'swidth': irisData.swidth, 'plength': irisData.plength, 'pwidth': irisData.pwidth})\n",
    "dataY = pandas.DataFrame({'flower': irisData.flower})\n",
    "\n",
    "from sklearn.preprocessing import PolynomialFeatures\n",
    "dataX = PolynomialFeatures(3).fit_transform(dataX)\n",
    "\n",
    "from sklearn.preprocessing import StandardScaler\n",
    "scaler = StandardScaler()\n",
    "dataX = scaler.fit_transform(dataX)\n",
    "\n",
    "from sklearn.model_selection import train_test_split\n",
    "trainX, testX, trainY, testY = train_test_split(dataX, dataY, test_size = 0.20, random_state = 11)\n",
    "\n",
    "from sklearn.linear_model import SGDClassifier\n",
    "model = SGDClassifier(shuffle = False)\n",
    "model.fit(trainX, trainY.values.ravel())\n",
    "\n",
    "print ('Coefficients: ', model.coef_)\n",
    "print ('Intercept: ', model.intercept_)\n",
    "print('iterations ran :',model.n_iter_);\n",
    "print ('R2: ', model.score (testX, testY))\n",
    "\n",
    "yhat = model.predict(testX)\n",
    "from sklearn.metrics import classification_report\n",
    "print(classification_report(testY, yhat))\n",
    "\n",
    "from sklearn.metrics import confusion_matrix\n",
    "print(confusion_matrix(testY, yhat))\n"
   ]
  },
  {
   "cell_type": "code",
   "execution_count": 14,
   "metadata": {},
   "outputs": [
    {
     "name": "stderr",
     "output_type": "stream",
     "text": [
      "C:\\ProgramData\\Anaconda3\\lib\\site-packages\\sklearn\\linear_model\\stochastic_gradient.py:183: FutureWarning: max_iter and tol parameters have been added in SGDClassifier in 0.19. If max_iter is set but tol is left unset, the default value for tol in 0.19 and 0.20 will be None (which is equivalent to -infinity, so it has no effect) but will change in 0.21 to 1e-3. Specify tol to silence this warning.\n",
      "  FutureWarning)\n"
     ]
    },
    {
     "name": "stdout",
     "output_type": "stream",
     "text": [
      "Coefficients:  [[-0.5814185   0.47008884 -0.80023045 -0.64344656]\n",
      " [ 0.37115103 -0.95447516  1.92754898 -2.28057329]\n",
      " [-1.14559183 -1.46910336  7.81325194  6.47915288]]\n",
      "Intercept:  [-1.51796344 -0.78582628 -8.74519968]\n",
      "iterations ran : 50000\n",
      "r2: \n",
      " 1.0\n",
      "                 precision    recall  f1-score   support\n",
      "\n",
      "    Iris-setosa       1.00      1.00      1.00        18\n",
      "Iris-versicolor       1.00      1.00      1.00        16\n",
      " Iris-virginica       1.00      1.00      1.00        11\n",
      "\n",
      "      micro avg       1.00      1.00      1.00        45\n",
      "      macro avg       1.00      1.00      1.00        45\n",
      "   weighted avg       1.00      1.00      1.00        45\n",
      "\n",
      "[[18  0  0]\n",
      " [ 0 16  0]\n",
      " [ 0  0 11]]\n"
     ]
    }
   ],
   "source": [
    "myData2=pandas.read_csv('iris.csv')\n",
    "\n",
    "\n",
    "dataX = pandas.DataFrame({'slength': myData2.slength,'swidth': myData2.swidth,'plength': myData2.plength,'pwidth': myData2.pwidth})\n",
    "dataY = pandas.DataFrame({'flower': myData2.flower})\n",
    "\n",
    "\n",
    "from sklearn.model_selection import train_test_split\n",
    "trainX, testX, trainY, testY = train_test_split(dataX, dataY, \\\n",
    "                                               test_size = 0.30, random_state = 200)\n",
    "\n",
    "\n",
    "from sklearn.preprocessing import StandardScaler\n",
    "\n",
    "scaler= StandardScaler()\n",
    "  \n",
    "trainX=scaler.fit_transform(trainX)\n",
    "    \n",
    "testX = scaler.transform(testX)\n",
    "# define the model\n",
    "\n",
    "from sklearn.linear_model import SGDClassifier\n",
    "\n",
    "sgd = SGDClassifier (max_iter=50000,tol=None)\n",
    "\n",
    "# train the model\n",
    "  \n",
    "sgd.fit (trainX, trainY.values.ravel())\n",
    "\n",
    "r2 = sgd.score(testX, testY.values.ravel())\n",
    "print ('Coefficients: ', sgd.coef_)\n",
    "print ('Intercept: ', sgd.intercept_)\n",
    "\n",
    "print('iterations ran :',sgd.n_iter_);\n",
    "print ('r2: \\n', r2)\n",
    "\n",
    "yhat = sgd.predict(testX)\n",
    "from sklearn.metrics import classification_report\n",
    "print(classification_report(testY, yhat))\n",
    "\n",
    "from sklearn.metrics import confusion_matrix\n",
    "print(confusion_matrix(testY, yhat))"
   ]
  },
  {
   "cell_type": "code",
   "execution_count": null,
   "metadata": {},
   "outputs": [],
   "source": []
  }
 ],
 "metadata": {
  "kernelspec": {
   "display_name": "Python 3",
   "language": "python",
   "name": "python3"
  },
  "language_info": {
   "codemirror_mode": {
    "name": "ipython",
    "version": 3
   },
   "file_extension": ".py",
   "mimetype": "text/x-python",
   "name": "python",
   "nbconvert_exporter": "python",
   "pygments_lexer": "ipython3",
   "version": "3.7.1"
  }
 },
 "nbformat": 4,
 "nbformat_minor": 2
}
