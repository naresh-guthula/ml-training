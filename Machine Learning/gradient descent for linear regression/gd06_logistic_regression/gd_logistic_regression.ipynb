{
 "cells": [
  {
   "cell_type": "code",
   "execution_count": 17,
   "metadata": {},
   "outputs": [
    {
     "name": "stdout",
     "output_type": "stream",
     "text": [
      "Coefficients:  [[59.9144777]]\n",
      "Intercept:  [-828.05338724]\n",
      "R2:  0.8771929824561403\n",
      "              precision    recall  f1-score   support\n",
      "\n",
      "           0       0.93      0.88      0.91        76\n",
      "           1       0.79      0.87      0.82        38\n",
      "\n",
      "   micro avg       0.88      0.88      0.88       114\n",
      "   macro avg       0.86      0.88      0.87       114\n",
      "weighted avg       0.88      0.88      0.88       114\n",
      "\n",
      "[[67  9]\n",
      " [ 5 33]]\n"
     ]
    },
    {
     "name": "stderr",
     "output_type": "stream",
     "text": [
      "C:\\ProgramData\\Anaconda3\\lib\\site-packages\\sklearn\\linear_model\\stochastic_gradient.py:166: FutureWarning: max_iter and tol parameters have been added in SGDClassifier in 0.19. If both are left unset, they default to max_iter=5 and tol=None. If tol is not None, max_iter defaults to max_iter=1000. From 0.21, default max_iter will be 1000, and default tol will be 1e-3.\n",
      "  FutureWarning)\n"
     ]
    }
   ],
   "source": [
    "#Logistic Regression\n",
    "import pandas;\n",
    "cancerData = pandas.read_csv('breast-cancer.csv')\n",
    "\n",
    "dataY = pandas.DataFrame({'diagnosis': cancerData.diagnosis})\n",
    "dataX = pandas.DataFrame({'radius_mean': cancerData.radius_mean})\n",
    "\n",
    "#from sklearn.preprocessing import PolynomialFeatures\n",
    "#dataX = PolynomialFeatures(4).fit_transform(dataX)\n",
    "\n",
    "from sklearn.model_selection import train_test_split\n",
    "trainX, testX, trainY, testY = train_test_split(dataX, dataY,\n",
    "                                               test_size = 0.20, random_state = 11)\n",
    "\n",
    "from sklearn.linear_model import SGDClassifier\n",
    "model = SGDClassifier(shuffle = False)\n",
    "model.fit(trainX, trainY.values.ravel())\n",
    "\n",
    "print ('Coefficients: ', model.coef_)\n",
    "print ('Intercept: ', model.intercept_)\n",
    "print ('R2: ', model.score (testX, testY))\n",
    "\n",
    "yhat = model.predict(testX)\n",
    "from sklearn.metrics import classification_report\n",
    "print(classification_report(testY, yhat))\n",
    "\n",
    "from sklearn.metrics import confusion_matrix\n",
    "print(confusion_matrix(testY, yhat))\n",
    "    "
   ]
  },
  {
   "cell_type": "code",
   "execution_count": null,
   "metadata": {},
   "outputs": [],
   "source": []
  },
  {
   "cell_type": "code",
   "execution_count": null,
   "metadata": {},
   "outputs": [],
   "source": []
  }
 ],
 "metadata": {
  "kernelspec": {
   "display_name": "Python 3",
   "language": "python",
   "name": "python3"
  },
  "language_info": {
   "codemirror_mode": {
    "name": "ipython",
    "version": 3
   },
   "file_extension": ".py",
   "mimetype": "text/x-python",
   "name": "python",
   "nbconvert_exporter": "python",
   "pygments_lexer": "ipython3",
   "version": "3.7.1"
  }
 },
 "nbformat": 4,
 "nbformat_minor": 2
}
