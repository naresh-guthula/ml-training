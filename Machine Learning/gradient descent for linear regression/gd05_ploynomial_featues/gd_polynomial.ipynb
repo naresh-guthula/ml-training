{
 "cells": [
  {
   "cell_type": "code",
   "execution_count": 1,
   "metadata": {},
   "outputs": [],
   "source": [
    "import pandas\n",
    "myData = pandas.read_csv('rentals.csv')"
   ]
  },
  {
   "cell_type": "code",
   "execution_count": 5,
   "metadata": {},
   "outputs": [
    {
     "name": "stdout",
     "output_type": "stream",
     "text": [
      "Coefficients:  [    0.          8066.81341441  4823.08053156  2451.52268964\n",
      "  3458.40314583  2310.11089867   -58.55404265   420.31220801\n",
      "   863.30557505   303.82261187  -595.84438004  -712.08607026\n",
      "  -691.41749333  -669.93880352 -1154.22068361]\n",
      "Intercept:  [38636.33573159]\n",
      "iterations ran : 1000\n",
      "R2:  0.856129110777381\n"
     ]
    },
    {
     "name": "stderr",
     "output_type": "stream",
     "text": [
      "C:\\ProgramData\\Anaconda3\\lib\\site-packages\\sklearn\\linear_model\\stochastic_gradient.py:1219: ConvergenceWarning: Maximum number of iteration reached before convergence. Consider increasing max_iter to improve the fit.\n",
      "  ConvergenceWarning)\n"
     ]
    }
   ],
   "source": [
    "dataX = pandas.DataFrame({'area': myData.area, 'bedrooms': myData.bedrooms})\n",
    "dataY = pandas.DataFrame({'cost': myData['cost']})\n",
    "\n",
    "from sklearn.preprocessing import PolynomialFeatures\n",
    "poly = PolynomialFeatures(4)\n",
    "dataX = poly.fit_transform(dataX)\n",
    "from sklearn.model_selection import train_test_split\n",
    "trainX, testX, trainY, testY = train_test_split(dataX, dataY, \\\n",
    "                                               test_size = 0.20, random_state = 11)\n",
    "from sklearn.preprocessing import StandardScaler\n",
    "scaler = StandardScaler()\n",
    "trainX = scaler.fit_transform(trainX)\n",
    "testX = scaler.transform(testX)\n",
    "\n",
    "from sklearn.linear_model import SGDRegressor\n",
    "model = SGDRegressor(shuffle = False, eta0 = .001, max_iter =1000, tol = 1)\n",
    "\n",
    "model.fit(trainX, trainY.values.ravel())\n",
    "\n",
    "print ('Coefficients: ', model.coef_)\n",
    "print ('Intercept: ', model.intercept_)\n",
    "\n",
    "print('iterations ran :',model.n_iter_);\n",
    "\n",
    "print ('R2: ', model.score (testX, testY))"
   ]
  },
  {
   "cell_type": "code",
   "execution_count": 3,
   "metadata": {},
   "outputs": [],
   "source": []
  },
  {
   "cell_type": "code",
   "execution_count": 93,
   "metadata": {},
   "outputs": [],
   "source": [
    "from sklearn.model_selection import train_test_split\n",
    "trainX, testX, trainY, testY = train_test_split(dataX, dataY, \\\n",
    "                                               test_size = 0.20, random_state = 11)"
   ]
  },
  {
   "cell_type": "code",
   "execution_count": 94,
   "metadata": {},
   "outputs": [
    {
     "name": "stderr",
     "output_type": "stream",
     "text": [
      "C:\\ProgramData\\Anaconda3\\lib\\site-packages\\sklearn\\preprocessing\\data.py:625: DataConversionWarning: Data with input dtype int64 were all converted to float64 by StandardScaler.\n",
      "  return self.partial_fit(X, y)\n",
      "C:\\ProgramData\\Anaconda3\\lib\\site-packages\\sklearn\\base.py:462: DataConversionWarning: Data with input dtype int64 were all converted to float64 by StandardScaler.\n",
      "  return self.fit(X, **fit_params).transform(X)\n",
      "C:\\ProgramData\\Anaconda3\\lib\\site-packages\\ipykernel_launcher.py:4: DataConversionWarning: Data with input dtype int64 were all converted to float64 by StandardScaler.\n",
      "  after removing the cwd from sys.path.\n"
     ]
    }
   ],
   "source": [
    "from sklearn.preprocessing import StandardScaler\n",
    "scaler = StandardScaler()\n",
    "trainX = scaler.fit_transform(trainX)\n",
    "testX = scaler.transform(testX)"
   ]
  },
  {
   "cell_type": "code",
   "execution_count": 95,
   "metadata": {},
   "outputs": [],
   "source": [
    "from sklearn.linear_model import SGDRegressor\n",
    "model = SGDRegressor(shuffle = False, eta0 = .001, max_iter =1000, tol = 1)"
   ]
  },
  {
   "cell_type": "code",
   "execution_count": 96,
   "metadata": {},
   "outputs": [
    {
     "data": {
      "text/plain": [
       "SGDRegressor(alpha=0.0001, average=False, early_stopping=False, epsilon=0.1,\n",
       "       eta0=0.001, fit_intercept=True, l1_ratio=0.15,\n",
       "       learning_rate='invscaling', loss='squared_loss', max_iter=1000,\n",
       "       n_iter=None, n_iter_no_change=5, penalty='l2', power_t=0.25,\n",
       "       random_state=None, shuffle=False, tol=1, validation_fraction=0.1,\n",
       "       verbose=0, warm_start=False)"
      ]
     },
     "execution_count": 96,
     "metadata": {},
     "output_type": "execute_result"
    }
   ],
   "source": [
    "model.fit(trainX, trainY.values.ravel())"
   ]
  },
  {
   "cell_type": "code",
   "execution_count": 97,
   "metadata": {},
   "outputs": [
    {
     "name": "stdout",
     "output_type": "stream",
     "text": [
      "Coefficients:  [18467.79186827]\n",
      "Intercept:  [38637.02334508]\n",
      "iterations ran : 669\n",
      "R2:  0.8433247401282897\n"
     ]
    }
   ],
   "source": [
    "print ('Coefficients: ', model.coef_)\n",
    "print ('Intercept: ', model.intercept_)\n",
    "\n",
    "print('iterations ran :',model.n_iter_);\n",
    "\n",
    "print ('R2: ', model.score (testX, testY))"
   ]
  },
  {
   "cell_type": "code",
   "execution_count": 98,
   "metadata": {},
   "outputs": [
    {
     "name": "stdout",
     "output_type": "stream",
     "text": [
      "Enter Area:400\n"
     ]
    },
    {
     "name": "stderr",
     "output_type": "stream",
     "text": [
      "C:\\ProgramData\\Anaconda3\\lib\\site-packages\\ipykernel_launcher.py:5: DataConversionWarning: Data with input dtype object were all converted to float64 by StandardScaler.\n",
      "  \"\"\"\n"
     ]
    },
    {
     "name": "stdout",
     "output_type": "stream",
     "text": [
      "\n",
      " Prediction Result:  [22927.23856152]\n",
      "\n",
      " do you want to continue? y-nn\n"
     ]
    }
   ],
   "source": [
    "choice = 'y'\n",
    "while choice == 'y':\n",
    "    area = input('Enter Area:')\n",
    "    customTestX = pandas.DataFrame({'area': area}, index = [0])\n",
    "    customTestX = scaler.transform(customTestX)\n",
    "    yWhat = model.predict(customTestX)\n",
    "    print('\\n Prediction Result: ', yWhat)\n",
    "    choice = input('\\n do you want to continue? y-n')\n",
    "\n",
    "    "
   ]
  },
  {
   "cell_type": "code",
   "execution_count": 24,
   "metadata": {},
   "outputs": [
    {
     "name": "stderr",
     "output_type": "stream",
     "text": [
      "C:\\ProgramData\\Anaconda3\\lib\\site-packages\\sklearn\\preprocessing\\data.py:625: DataConversionWarning: Data with input dtype int64, float64 were all converted to float64 by StandardScaler.\n",
      "  return self.partial_fit(X, y)\n",
      "C:\\ProgramData\\Anaconda3\\lib\\site-packages\\sklearn\\base.py:462: DataConversionWarning: Data with input dtype int64, float64 were all converted to float64 by StandardScaler.\n",
      "  return self.fit(X, **fit_params).transform(X)\n",
      "C:\\ProgramData\\Anaconda3\\lib\\site-packages\\ipykernel_launcher.py:16: DataConversionWarning: Data with input dtype int64, float64 were all converted to float64 by StandardScaler.\n",
      "  app.launch_new_instance()\n",
      "C:\\ProgramData\\Anaconda3\\lib\\site-packages\\sklearn\\linear_model\\stochastic_gradient.py:1219: ConvergenceWarning: Maximum number of iteration reached before convergence. Consider increasing max_iter to improve the fit.\n",
      "  ConvergenceWarning)\n"
     ]
    },
    {
     "name": "stdout",
     "output_type": "stream",
     "text": [
      "Coefficients:  [5834.84509042 3546.38895909 4551.46720814 3053.08448727 3013.63798015]\n",
      "Intercept:  [38636.24765801]\n",
      "iterations ran : 1000\n",
      "R2:  0.8560669818165453\n",
      "Enter Area:650\n",
      "Enter Bedrooms:2\n"
     ]
    },
    {
     "name": "stderr",
     "output_type": "stream",
     "text": [
      "C:\\ProgramData\\Anaconda3\\lib\\site-packages\\ipykernel_launcher.py:36: DataConversionWarning: Data with input dtype int64, float64 were all converted to float64 by StandardScaler.\n"
     ]
    },
    {
     "name": "stdout",
     "output_type": "stream",
     "text": [
      "\n",
      " Prediction Result:  [31413.98852183]\n",
      "\n",
      " do you want to continue? y-nn\n"
     ]
    }
   ],
   "source": [
    "import math\n",
    "import pandas\n",
    "import numpy\n",
    "myData = pandas.read_csv('rentals.csv')\n",
    "\n",
    "dataY = pandas.DataFrame({'cost': myData.cost})\n",
    "dataX = pandas.DataFrame({'area':myData.area,'bedrooms':myData.bedrooms, 'br-square' :myData.bedrooms * myData.bedrooms\n",
    ",'br-root' : numpy.sqrt(myData.bedrooms) ,'spacious' :myData.area / myData.bedrooms})\n",
    "\n",
    "from sklearn.model_selection import train_test_split\n",
    "trainX, testX, trainY, testY = train_test_split(dataX, dataY, \\\n",
    "                                               test_size = 0.20, random_state = 11)\n",
    "from sklearn.preprocessing import StandardScaler\n",
    "scaler = StandardScaler()\n",
    "trainX = scaler.fit_transform(trainX)\n",
    "testX = scaler.transform(testX)\n",
    "\n",
    "from sklearn.linear_model import SGDRegressor\n",
    "model = SGDRegressor(shuffle = False, eta0 = .001, max_iter =1000, tol = 1)\n",
    "\n",
    "model.fit(trainX, trainY.values.ravel())\n",
    "\n",
    "print ('Coefficients: ', model.coef_)\n",
    "print ('Intercept: ', model.intercept_)\n",
    "\n",
    "print('iterations ran :',model.n_iter_);\n",
    "\n",
    "print ('R2: ', model.score (testX, testY))\n",
    "\n",
    "choice = 'y'\n",
    "while choice == 'y':\n",
    "    area = int(input('Enter Area:'))\n",
    "    bedrooms = int(input('Enter Bedrooms:'))\n",
    "    customTestX = pandas.DataFrame({'area':area,'bedrooms':bedrooms, 'br-square' :bedrooms * bedrooms\n",
    ",'br-root' : numpy.sqrt(bedrooms) ,'spacious' :area / bedrooms}, index = [0])\n",
    "    customTestX = scaler.transform(customTestX)\n",
    "    yWhat = model.predict(customTestX)\n",
    "    print('\\n Prediction Result: ', yWhat)\n",
    "    choice = input('\\n do you want to continue? y-n')\n",
    "\n",
    "    "
   ]
  },
  {
   "cell_type": "code",
   "execution_count": 29,
   "metadata": {},
   "outputs": [
    {
     "name": "stdout",
     "output_type": "stream",
     "text": [
      "Coefficients:  [  27.41003448 6142.61714695]\n",
      "Intercept:  1124.6179085119074\n",
      "R2:  0.8594790304553865\n"
     ]
    }
   ],
   "source": [
    "#LINEAR REGRESSION\n",
    "import pandas\n",
    "myData = pandas.read_csv('rentals.csv')\n",
    "\n",
    "dataY = pandas.DataFrame({'cost': myData.cost})\n",
    "dataX = pandas.DataFrame({'area':myData.area,'bedrooms':myData.bedrooms})\n",
    "\n",
    "from sklearn.model_selection import train_test_split\n",
    "trainX, testX, trainY, testY = train_test_split(dataX, dataY, \\\n",
    "                                               test_size = 0.20, random_state = 11)\n",
    "\n",
    "from sklearn.linear_model import LinearRegression\n",
    "model = LinearRegression()\n",
    "\n",
    "model.fit(trainX, trainY.values.ravel())\n",
    "\n",
    "print ('Coefficients: ', model.coef_)\n",
    "print ('Intercept: ', model.intercept_)\n",
    "print ('R2: ', model.score (testX, testY))\n",
    "    "
   ]
  },
  {
   "cell_type": "code",
   "execution_count": 35,
   "metadata": {},
   "outputs": [
    {
     "name": "stdout",
     "output_type": "stream",
     "text": [
      "Coefficients:  [  28.9680983  5329.21156487]\n",
      "Intercept:  1936.6285402083813\n",
      "R2:  0.8595728512840408\n"
     ]
    }
   ],
   "source": [
    "#Ridge REGRESSION\n",
    "import pandas\n",
    "myData = pandas.read_csv('rentals.csv')\n",
    "\n",
    "dataY = pandas.DataFrame({'cost': myData.cost})\n",
    "dataX = pandas.DataFrame({'area':myData.area,'bedrooms':myData.bedrooms})\n",
    "\n",
    "from sklearn.model_selection import train_test_split\n",
    "trainX, testX, trainY, testY = train_test_split(dataX, dataY, \\\n",
    "                                               test_size = 0.20, random_state = 11)\n",
    "\n",
    "from sklearn.linear_model import Ridge\n",
    "model = Ridge(alpha = 10)\n",
    "model.fit(trainX, trainY.values.ravel())\n",
    "\n",
    "print ('Coefficients: ', model.coef_)\n",
    "print ('Intercept: ', model.intercept_)\n",
    "print ('R2: ', model.score (testX, testY))\n",
    "    "
   ]
  },
  {
   "cell_type": "code",
   "execution_count": 45,
   "metadata": {},
   "outputs": [
    {
     "name": "stdout",
     "output_type": "stream",
     "text": [
      "Coefficients:  [-0.33394932  6.11894078  0.95192486  0.50678583 -0.69951547 -1.10879044\n",
      " -0.         28.4665239   0.2953776 ]\n",
      "Intercept:  -201.5281865766518\n",
      "R2:  0.5550594625529659\n"
     ]
    }
   ],
   "source": [
    "#Lasso REGRESSION\n",
    "import pandas;\n",
    "diabetesData = pandas.read_csv('Diabetes.csv')\n",
    "\n",
    "dataY = pandas.DataFrame({'y': diabetesData.y})\n",
    "dataX = pandas.DataFrame({'age': diabetesData.age, 'bmi': diabetesData.bmi \\\n",
    "                          , 'bp':diabetesData.bp, 's1': diabetesData.s1 \\\n",
    "                          , 's2':diabetesData.s2, 's3': diabetesData.s3 \\\n",
    "                          , 's4':diabetesData.s4, 's5': diabetesData.s5, 's6': diabetesData.s6\n",
    "})\n",
    "\n",
    "from sklearn.model_selection import train_test_split\n",
    "trainX, testX, trainY, testY = train_test_split(dataX, dataY, \\\n",
    "                                               test_size = 0.20, random_state = 11)\n",
    "\n",
    "from sklearn.linear_model import Lasso\n",
    "model = Lasso(alpha=1)\n",
    "model.fit(trainX, trainY.values.ravel())\n",
    "\n",
    "print ('Coefficients: ', model.coef_)\n",
    "print ('Intercept: ', model.intercept_)\n",
    "print ('R2: ', model.score (testX, testY))\n",
    "    "
   ]
  },
  {
   "cell_type": "code",
   "execution_count": null,
   "metadata": {},
   "outputs": [],
   "source": []
  }
 ],
 "metadata": {
  "kernelspec": {
   "display_name": "Python 3",
   "language": "python",
   "name": "python3"
  },
  "language_info": {
   "codemirror_mode": {
    "name": "ipython",
    "version": 3
   },
   "file_extension": ".py",
   "mimetype": "text/x-python",
   "name": "python",
   "nbconvert_exporter": "python",
   "pygments_lexer": "ipython3",
   "version": "3.7.1"
  }
 },
 "nbformat": 4,
 "nbformat_minor": 2
}
