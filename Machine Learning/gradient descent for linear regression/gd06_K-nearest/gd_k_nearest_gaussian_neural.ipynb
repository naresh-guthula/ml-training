{
 "cells": [
  {
   "cell_type": "code",
   "execution_count": 13,
   "metadata": {},
   "outputs": [
    {
     "name": "stdout",
     "output_type": "stream",
     "text": [
      "R2:  0.9473684210526315\n",
      "              precision    recall  f1-score   support\n",
      "\n",
      "           0       0.94      0.99      0.96        76\n",
      "           1       0.97      0.87      0.92        38\n",
      "\n",
      "   micro avg       0.95      0.95      0.95       114\n",
      "   macro avg       0.95      0.93      0.94       114\n",
      "weighted avg       0.95      0.95      0.95       114\n",
      "\n",
      "[[75  1]\n",
      " [ 5 33]]\n"
     ]
    }
   ],
   "source": [
    "# K nearest\n",
    "import pandas\n",
    "cancerData = pandas.read_csv('breast-cancer.csv')\n",
    "\n",
    "dataX = pandas.DataFrame({'radius_mean': cancerData.radius_mean, 'texture_mean': cancerData.texture_mean,\n",
    "                          'perimeter_mean': cancerData.perimeter_mean, 'area_mean': cancerData.area_mean,\n",
    "                          'smoothness_mean': cancerData.smoothness_mean, 'compactness_mean': cancerData.compactness_mean,\n",
    "                         'concavity_mean': cancerData.concavity_mean,\n",
    "                         'symmetry_mean': cancerData.symmetry_mean, 'fractal_dimension_mean': cancerData.fractal_dimension_mean})\n",
    "dataY = pandas.DataFrame({'diagnosis': cancerData.diagnosis})\n",
    "\n",
    "from sklearn.preprocessing import PolynomialFeatures\n",
    "dataX = PolynomialFeatures(3).fit_transform(dataX)\n",
    "\n",
    "from sklearn.preprocessing import StandardScaler\n",
    "scaler = StandardScaler()\n",
    "dataX = scaler.fit_transform(dataX)\n",
    "\n",
    "from sklearn.model_selection import train_test_split\n",
    "trainX, testX, trainY, testY = train_test_split(dataX, dataY, test_size = 0.20, random_state = 11)\n",
    "\n",
    "from sklearn.neighbors import KNeighborsClassifier\n",
    "model = KNeighborsClassifier(n_neighbors = 5)\n",
    "model.fit(trainX, trainY.values.ravel())\n",
    "\n",
    "print ('R2: ', model.score (testX, testY))\n",
    "\n",
    "yhat = model.predict(testX)\n",
    "from sklearn.metrics import classification_report\n",
    "print(classification_report(testY, yhat))\n",
    "\n",
    "from sklearn.metrics import confusion_matrix\n",
    "print(confusion_matrix(testY, yhat))\n"
   ]
  },
  {
   "cell_type": "code",
   "execution_count": 9,
   "metadata": {},
   "outputs": [
    {
     "name": "stdout",
     "output_type": "stream",
     "text": [
      "R2:  0.9122807017543859\n",
      "              precision    recall  f1-score   support\n",
      "\n",
      "           0       0.91      0.96      0.94        76\n",
      "           1       0.91      0.82      0.86        38\n",
      "\n",
      "   micro avg       0.91      0.91      0.91       114\n",
      "   macro avg       0.91      0.89      0.90       114\n",
      "weighted avg       0.91      0.91      0.91       114\n",
      "\n",
      "[[73  3]\n",
      " [ 7 31]]\n"
     ]
    }
   ],
   "source": [
    "#GaussNB\n",
    "import pandas\n",
    "cancerData = pandas.read_csv('breast-cancer.csv')\n",
    "\n",
    "dataX = pandas.DataFrame({'radius_mean': cancerData.radius_mean, 'texture_mean': cancerData.texture_mean,\n",
    "                          'perimeter_mean': cancerData.perimeter_mean, 'area_mean': cancerData.area_mean,\n",
    "                          'smoothness_mean': cancerData.smoothness_mean, 'compactness_mean': cancerData.compactness_mean,\n",
    "                         'concavity_mean': cancerData.concavity_mean,\n",
    "                         'symmetry_mean': cancerData.symmetry_mean, 'fractal_dimension_mean': cancerData.fractal_dimension_mean})\n",
    "dataY = pandas.DataFrame({'diagnosis': cancerData.diagnosis})\n",
    "\n",
    "from sklearn.preprocessing import PolynomialFeatures\n",
    "dataX = PolynomialFeatures(3).fit_transform(dataX)\n",
    "\n",
    "from sklearn.preprocessing import StandardScaler\n",
    "scaler = StandardScaler()\n",
    "dataX = scaler.fit_transform(dataX)\n",
    "\n",
    "from sklearn.model_selection import train_test_split\n",
    "trainX, testX, trainY, testY = train_test_split(dataX, dataY, test_size = 0.20, random_state = 11)\n",
    "\n",
    "from sklearn.naive_bayes import GaussianNB\n",
    "model = GaussianNB()\n",
    "model.fit(trainX, trainY.values.ravel())\n",
    "\n",
    "print ('R2: ', model.score (testX, testY))\n",
    "\n",
    "yhat = model.predict(testX)\n",
    "from sklearn.metrics import classification_report\n",
    "print(classification_report(testY, yhat))\n",
    "\n",
    "from sklearn.metrics import confusion_matrix\n",
    "print(confusion_matrix(testY, yhat))\n"
   ]
  },
  {
   "cell_type": "code",
   "execution_count": 49,
   "metadata": {},
   "outputs": [
    {
     "name": "stdout",
     "output_type": "stream",
     "text": [
      "R2:  0.868421052631579\n",
      "5\n",
      "1\n",
      "logistic\n",
      "MLPClassifier(activation='relu', alpha=1e-06, batch_size='auto', beta_1=0.9,\n",
      "       beta_2=0.999, early_stopping=False, epsilon=1e-08,\n",
      "       hidden_layer_sizes=(50, 25, 5), learning_rate='constant',\n",
      "       learning_rate_init=0.001, max_iter=200, momentum=0.9,\n",
      "       n_iter_no_change=10, nesterovs_momentum=True, power_t=0.5,\n",
      "       random_state=10, shuffle=True, solver='adam', tol=0.0001,\n",
      "       validation_fraction=0.1, verbose=False, warm_start=False)\n"
     ]
    }
   ],
   "source": [
    "#GaussNB\n",
    "import pandas\n",
    "cancerData = pandas.read_csv('breast-cancer.csv')\n",
    "\n",
    "dataX = pandas.DataFrame({'radius_mean': cancerData.radius_mean, 'texture_mean': cancerData.texture_mean,\n",
    "                          'perimeter_mean': cancerData.perimeter_mean, 'area_mean': cancerData.area_mean,\n",
    "                          'smoothness_mean': cancerData.smoothness_mean, 'compactness_mean': cancerData.compactness_mean,\n",
    "                         'concavity_mean': cancerData.concavity_mean,\n",
    "                         'symmetry_mean': cancerData.symmetry_mean, 'fractal_dimension_mean': cancerData.fractal_dimension_mean})\n",
    "dataY = pandas.DataFrame({'diagnosis': cancerData.diagnosis})\n",
    "\n",
    "\n",
    "from sklearn.model_selection import train_test_split\n",
    "trainX, testX, trainY, testY = train_test_split(dataX, dataY, test_size = 0.20, random_state = 90)\n",
    "\n",
    "from sklearn.neural_network import MLPClassifier\n",
    "model = MLPClassifier (solver = 'adam', alpha = 1e-6, hidden_layer_sizes = (50, 25, 5), random_state = 10)\n",
    "model.fit(trainX, trainY.values.ravel())\n",
    "\n",
    "print ('R2: ', model.score (testX, testY))\n",
    "#print(model.coefs_)\n",
    "print(model.n_layers_ )\n",
    "print(model.n_outputs_)\n",
    "print(model.out_activation_)\n",
    "print(model)"
   ]
  },
  {
   "cell_type": "code",
   "execution_count": 52,
   "metadata": {},
   "outputs": [
    {
     "data": {
      "image/png": "[encoded data removed]",
      "text/plain": [
       "<Figure size 432x288 with 4 Axes>"
      ]
     },
     "metadata": {
      "needs_background": "light"
     },
     "output_type": "display_data"
    },
    {
     "data": {
      "image/png": "[encoded data removed]",
      "text/plain": [
       "<Figure size 432x288 with 4 Axes>"
      ]
     },
     "metadata": {
      "needs_background": "light"
     },
     "output_type": "display_data"
    }
   ],
   "source": [
    "import pandas\n",
    "weights = pandas.read_csv('GirlsWeights.csv')\n",
    "\n",
    "from pandas.plotting import scatter_matrix\n",
    "weights.plot(kind='box',subplots=True,layout=(2,2),sharex=False,sharey=False)\n",
    "\n",
    "scatter_matrix(weights)\n",
    "\n",
    "import matplotlib.pyplot as plt\n",
    "plt.show()"
   ]
  },
  {
   "cell_type": "code",
   "execution_count": 56,
   "metadata": {},
   "outputs": [
    {
     "name": "stdout",
     "output_type": "stream",
     "text": [
      "[1 0 1 2 0 2 1 0 0 1 1 1 1 2 0 2 2 0 2 1 1 2 1 0 2 1 1 0 1 0 2 2 1 2 0 2 0\n",
      " 1 1 0 1 0 1 0 1 2 1 0 2 2 0 1 2 0 0 0 0 1 0 2 0 2 1 2 0 1 1 1 0 0 0 0 2 0\n",
      " 2 2 0 0 1 0 1 2 1 1 1 2 1 0 0 2 2 0 1 2 1 2 2 2 1 1 0 1 2 1 2 2 0 1 1 0 2\n",
      " 1 0 2 1 0 2 2 1 0 2 1 1 2 2 1 2 1 0 0 2 0 1 2 1 0 2 2 2 0 2 0 0 0 0 1 0 2\n",
      " 2 2]\n",
      "[[15.06  52.17 ]\n",
      " [ 9.8   32.006]\n",
      " [19.92  58.146]]\n",
      "     age  weight  cluster\n",
      "0     10    36.3        1\n",
      "1     16    50.2        0\n",
      "2     10    32.1        1\n",
      "3     20    56.7        2\n",
      "4     15    52.8        0\n",
      "5     20    57.5        2\n",
      "6      9    33.9        1\n",
      "7     15    52.5        0\n",
      "8     16    51.4        0\n",
      "9      9    28.3        1\n",
      "10    10    34.0        1\n",
      "11    10    35.2        1\n",
      "12     9    27.4        1\n",
      "13    21    59.8        2\n",
      "14    15    52.8        0\n",
      "15    19    58.1        2\n",
      "16    20    59.8        2\n",
      "17    15    51.9        0\n",
      "18    20    60.4        2\n",
      "19    10    33.6        1\n",
      "20    11    30.3        1\n",
      "21    20    56.0        2\n",
      "22     9    30.8        1\n",
      "23    16    51.6        0\n",
      "24    21    60.2        2\n",
      "25     9    29.7        1\n",
      "26    11    29.6        1\n",
      "27    14    52.4        0\n",
      "28    10    27.1        1\n",
      "29    15    53.7        0\n",
      "..   ...     ...      ...\n",
      "120   20    56.5        2\n",
      "121   10    31.3        1\n",
      "122   10    31.4        1\n",
      "123   20    55.7        2\n",
      "124   20    57.3        2\n",
      "125   10    31.7        1\n",
      "126   19    59.9        2\n",
      "127   10    31.3        1\n",
      "128   15    52.3        0\n",
      "129   15    52.3        0\n",
      "130   20    58.7        2\n",
      "131   15    52.1        0\n",
      "132    9    36.3        1\n",
      "133   21    60.1        2\n",
      "134    9    28.4        1\n",
      "135   15    52.9        0\n",
      "136   20    58.0        2\n",
      "137   20    58.7        2\n",
      "138   19    58.3        2\n",
      "139   16    51.7        0\n",
      "140   19    56.3        2\n",
      "141   15    51.0        0\n",
      "142   14    50.5        0\n",
      "143   14    51.9        0\n",
      "144   15    53.6        0\n",
      "145    9    28.8        1\n",
      "146   14    50.6        0\n",
      "147   20    56.3        2\n",
      "148   19    59.3        2\n",
      "149   20    58.0        2\n",
      "\n",
      "[150 rows x 3 columns]\n"
     ]
    }
   ],
   "source": [
    "import pandas\n",
    "weights = pandas.read_csv('GirlsWeights.csv')\n",
    "\n",
    "from sklearn.cluster import KMeans\n",
    "model = KMeans(n_clusters = 3)\n",
    "\n",
    "yhat = model.fit_predict(weights)\n",
    "print(yhat)\n",
    "\n",
    "centroids = model.cluster_centers_\n",
    "print(centroids)\n",
    "result = pandas.DataFrame({'age': weights['age'], 'weight': weights['weight'], 'cluster': yhat})\n",
    "print(result)\n"
   ]
  },
  {
   "cell_type": "code",
   "execution_count": 57,
   "metadata": {},
   "outputs": [
    {
     "data": {
      "image/png": "[encoded data removed]",
      "text/plain": [
       "<Figure size 432x288 with 4 Axes>"
      ]
     },
     "metadata": {
      "needs_background": "light"
     },
     "output_type": "display_data"
    },
    {
     "data": {
      "image/png": "[encoded data removed]",
      "text/plain": [
       "<Figure size 432x288 with 4 Axes>"
      ]
     },
     "metadata": {
      "needs_background": "light"
     },
     "output_type": "display_data"
    }
   ],
   "source": [
    "import pandas\n",
    "weights = pandas.read_csv('GirlsWeightsWithAnomalies.csv')\n",
    "\n",
    "from pandas.plotting import scatter_matrix\n",
    "weights.plot(kind='box',subplots=True,layout=(2,2),sharex=False,sharey=False)\n",
    "\n",
    "scatter_matrix(weights)\n",
    "\n",
    "import matplotlib.pyplot as plt\n",
    "plt.show()"
   ]
  },
  {
   "cell_type": "code",
   "execution_count": 64,
   "metadata": {},
   "outputs": [
    {
     "name": "stdout",
     "output_type": "stream",
     "text": [
      "{'algorithm': 'auto', 'eps': 1.5, 'leaf_size': 30, 'metric': 'euclidean', 'metric_params': None, 'min_samples': 5, 'n_jobs': None, 'p': None}\n",
      "[0 1 0 2 1 2 0 1 1 0 0 0 0 2 1 2 2 1 2 0 0 2 0 1 2 0 0 1 0 1 2 2 0 2 1 2 1\n",
      " 0 0 1 0 1 0 1 0 2 0 1 2 2 1 0 2 1 1 1 1 0 1 2 1 2 0 2 1 0 0 0 1 1 1 1 2 1\n",
      " 2 2 1 1 0 1 0 2 0 0 0 2 0 1 1 2 2 1 0 2 0 2 2 2 0 0 1 0 2 0 2 2 1 0 0 1 2\n",
      " 0 1 2 0 1 2 2 0 1 2 0 0 2 2 0 2 0 1 1 2 1 0 2 0 1 2 2 2 1 2 1 1 1 1 0 1 2\n",
      " 2 2]\n"
     ]
    }
   ],
   "source": [
    "import pandas\n",
    "weights = pandas.read_csv('GirlsWeights.csv')\n",
    "\n",
    "from sklearn.cluster import DBSCAN\n",
    "model = DBSCAN(eps = 1.5)\n",
    "print(model.get_params())\n",
    "\n",
    "yhat = model.fit_predict(weights)\n",
    "print(yhat)\n"
   ]
  },
  {
   "cell_type": "code",
   "execution_count": null,
   "metadata": {},
   "outputs": [],
   "source": []
  }
 ],
 "metadata": {
  "kernelspec": {
   "display_name": "Python 3",
   "language": "python",
   "name": "python3"
  },
  "language_info": {
   "codemirror_mode": {
    "name": "ipython",
    "version": 3
   },
   "file_extension": ".py",
   "mimetype": "text/x-python",
   "name": "python",
   "nbconvert_exporter": "python",
   "pygments_lexer": "ipython3",
   "version": "3.7.1"
  }
 },
 "nbformat": 4,
 "nbformat_minor": 2
}
